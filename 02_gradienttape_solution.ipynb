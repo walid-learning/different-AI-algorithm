{
 "cells": [
  {
   "cell_type": "markdown",
   "metadata": {},
   "source": [
    "## Exercice GradientTape"
   ]
  },
  {
   "cell_type": "markdown",
   "metadata": {},
   "source": [
    "En vous aidant de la documentation en ligne de tf.GrandientTape :\n",
    "- https://www.tensorflow.org/tutorials/customization/autodiff\n",
    "- https://www.tensorflow.org/api_docs/python/tf/GradientTape\n",
    "\n",
    "Reprenez l'exemple du calcul du gradient donné en cours (cours Réseaux de neurones multicouches, B. Gas) de la fonction suivante : \n",
    "\n",
    "$\\mathcal{L}(\\hat{y},y) = (\\sigma(W^TX+\\theta)-y)^2$\n",
    "\n",
    "Calculez 𝜕L⁄𝜕𝑋 et 𝜕L⁄𝜕𝑊 pour les valeurs de X et de W données en cours et vérifiez que vous obtenez les mêmes résultats"
   ]
  },
  {
   "cell_type": "code",
   "execution_count": 6,
   "metadata": {},
   "outputs": [],
   "source": [
    "import tensorflow as tf\n",
    "import numpy as np"
   ]
  },
  {
   "cell_type": "markdown",
   "metadata": {},
   "source": [
    "On définit les valeurs des variables du problème"
   ]
  },
  {
   "cell_type": "code",
   "execution_count": 7,
   "metadata": {},
   "outputs": [],
   "source": [
    "X = tf.constant([[-3.0,2.0]])\n",
    "W = tf.constant([[-1.0,-1.5]])\n",
    "theta = tf.constant(0.5)\n",
    "y = tf.constant(2.0)"
   ]
  },
  {
   "cell_type": "markdown",
   "metadata": {},
   "source": [
    "On utilise l'otion persistent=True pour pouvoir calculer la dérivée de L pour deux variables différentes"
   ]
  },
  {
   "cell_type": "code",
   "execution_count": 8,
   "metadata": {},
   "outputs": [
    {
     "name": "stdout",
     "output_type": "stream",
     "text": [
      "tf.Tensor([[0.6474544 0.9711816]], shape=(1, 2), dtype=float32)\n",
      "dL_dX = [[0.6474544 0.9711816]] - dL_dW = [[ 1.9423631 -1.2949088]]\n"
     ]
    }
   ],
   "source": [
    "with tf.GradientTape(persistent=True) as t:\n",
    "  t.watch(X)\n",
    "  t.watch(W)\n",
    "  v = tf.matmul(W,tf.transpose(X)) + theta\n",
    "  y_hat = tf.math.sigmoid(v)\n",
    "  L = (y_hat - y)**2\n",
    "  \n",
    "dL_dW = t.gradient(L,W)\n",
    "dL_dX = t.gradient(L,X)\n",
    "\n",
    "print(dL_dX)\n",
    "\n",
    "print(\"dL_dX = {} - dL_dW = {}\".format(dL_dX, dL_dW))\n",
    "# on supprime la référence à t\n",
    "del(t)\n"
   ]
  },
  {
   "cell_type": "code",
   "execution_count": null,
   "metadata": {},
   "outputs": [],
   "source": []
  }
 ],
 "metadata": {
  "kernelspec": {
   "display_name": "Python 3",
   "language": "python",
   "name": "python3"
  },
  "language_info": {
   "codemirror_mode": {
    "name": "ipython",
    "version": 3
   },
   "file_extension": ".py",
   "mimetype": "text/x-python",
   "name": "python",
   "nbconvert_exporter": "python",
   "pygments_lexer": "ipython3",
   "version": "3.8.2"
  }
 },
 "nbformat": 4,
 "nbformat_minor": 4
}
