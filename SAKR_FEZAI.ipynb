{
  "cells": [
    {
      "cell_type": "markdown",
      "source": [
        "# **Compte rendu tp RL**"
      ],
      "metadata": {
        "id": "qjSSk7cDKQKg"
      },
      "id": "qjSSk7cDKQKg"
    },
    {
      "cell_type": "markdown",
      "id": "73de3b7d",
      "metadata": {
        "id": "73de3b7d"
      },
      "source": [
        "In this colab we will investigate the **value iteration** and **policy iteration** algorithms in a maze environment."
      ]
    },
    {
      "cell_type": "markdown",
      "id": "6682d547",
      "metadata": {
        "id": "6682d547"
      },
      "source": [
        "# Installation #"
      ]
    },
    {
      "cell_type": "code",
      "execution_count": 1,
      "id": "15b22c60",
      "metadata": {
        "colab": {
          "base_uri": "https://localhost:8080/"
        },
        "id": "15b22c60",
        "outputId": "58b4a266-7463-4af8-fd3d-e1d634d01039"
      },
      "outputs": [
        {
          "output_type": "stream",
          "name": "stdout",
          "text": [
            "Reading package lists... Done\n",
            "Building dependency tree       \n",
            "Reading state information... Done\n",
            "ffmpeg is already the newest version (7:3.4.11-0ubuntu0.1).\n",
            "The following package was automatically installed and is no longer required:\n",
            "  libnvidia-common-460\n",
            "Use 'apt autoremove' to remove it.\n",
            "0 upgraded, 0 newly installed, 0 to remove and 20 not upgraded.\n"
          ]
        }
      ],
      "source": [
        "if get_ipython().__class__.__module__ == \"google.colab._shell\":\n",
        "    !apt-get install ffmpeg"
      ]
    },
    {
      "cell_type": "code",
      "execution_count": 2,
      "id": "938429e4",
      "metadata": {
        "colab": {
          "base_uri": "https://localhost:8080/"
        },
        "id": "938429e4",
        "outputId": "6527fc8e-c116-491d-ae63-66683a63f284"
      },
      "outputs": [
        {
          "output_type": "stream",
          "name": "stdout",
          "text": [
            "Looking in indexes: https://pypi.org/simple, https://us-python.pkg.dev/colab-wheels/public/simple/\n",
            "Collecting git+https://github.com/osigaud/my_gym\n",
            "  Cloning https://github.com/osigaud/my_gym to /tmp/pip-req-build-uynp0663\n",
            "  Running command git clone -q https://github.com/osigaud/my_gym /tmp/pip-req-build-uynp0663\n",
            "Requirement already satisfied: numpy>=1.19.1 in /usr/local/lib/python3.7/dist-packages (from bbrl-gym==0.1.0) (1.21.6)\n",
            "Collecting gym==0.21.0\n",
            "  Downloading gym-0.21.0.tar.gz (1.5 MB)\n",
            "\u001b[K     |████████████████████████████████| 1.5 MB 12.4 MB/s \n",
            "\u001b[?25hCollecting Box2D\n",
            "  Downloading Box2D-2.3.10-cp37-cp37m-manylinux1_x86_64.whl (1.3 MB)\n",
            "\u001b[K     |████████████████████████████████| 1.3 MB 53.6 MB/s \n",
            "\u001b[?25hCollecting mazemdp>=0.1.1\n",
            "  Downloading mazemdp-0.1.1.tar.gz (15 kB)\n",
            "Requirement already satisfied: cloudpickle>=1.2.0 in /usr/local/lib/python3.7/dist-packages (from gym==0.21.0->bbrl-gym==0.1.0) (1.5.0)\n",
            "Requirement already satisfied: importlib_metadata>=4.8.1 in /usr/local/lib/python3.7/dist-packages (from gym==0.21.0->bbrl-gym==0.1.0) (4.12.0)\n",
            "Requirement already satisfied: zipp>=0.5 in /usr/local/lib/python3.7/dist-packages (from importlib_metadata>=4.8.1->gym==0.21.0->bbrl-gym==0.1.0) (3.8.1)\n",
            "Requirement already satisfied: typing-extensions>=3.6.4 in /usr/local/lib/python3.7/dist-packages (from importlib_metadata>=4.8.1->gym==0.21.0->bbrl-gym==0.1.0) (4.1.1)\n",
            "Requirement already satisfied: matplotlib in /usr/local/lib/python3.7/dist-packages (from mazemdp>=0.1.1->bbrl-gym==0.1.0) (3.2.2)\n",
            "Requirement already satisfied: python-dateutil>=2.1 in /usr/local/lib/python3.7/dist-packages (from matplotlib->mazemdp>=0.1.1->bbrl-gym==0.1.0) (2.8.2)\n",
            "Requirement already satisfied: cycler>=0.10 in /usr/local/lib/python3.7/dist-packages (from matplotlib->mazemdp>=0.1.1->bbrl-gym==0.1.0) (0.11.0)\n",
            "Requirement already satisfied: pyparsing!=2.0.4,!=2.1.2,!=2.1.6,>=2.0.1 in /usr/local/lib/python3.7/dist-packages (from matplotlib->mazemdp>=0.1.1->bbrl-gym==0.1.0) (3.0.9)\n",
            "Requirement already satisfied: kiwisolver>=1.0.1 in /usr/local/lib/python3.7/dist-packages (from matplotlib->mazemdp>=0.1.1->bbrl-gym==0.1.0) (1.4.4)\n",
            "Requirement already satisfied: six>=1.5 in /usr/local/lib/python3.7/dist-packages (from python-dateutil>=2.1->matplotlib->mazemdp>=0.1.1->bbrl-gym==0.1.0) (1.15.0)\n",
            "Building wheels for collected packages: bbrl-gym, gym, mazemdp\n",
            "  Building wheel for bbrl-gym (setup.py) ... \u001b[?25l\u001b[?25hdone\n",
            "  Created wheel for bbrl-gym: filename=bbrl_gym-0.1.0-py3-none-any.whl size=17222 sha256=88a8d99535f381f7f34b0c1ef02fddfe0d24e5a50a169de1fd0e6ef8bc58bb88\n",
            "  Stored in directory: /tmp/pip-ephem-wheel-cache-2hbnjgoc/wheels/0b/2c/67/5df37c12451553731420023ff73d12effcae27a38cc5053550\n",
            "  Building wheel for gym (setup.py) ... \u001b[?25l\u001b[?25hdone\n",
            "  Created wheel for gym: filename=gym-0.21.0-py3-none-any.whl size=1616828 sha256=c9646f8d9db4ff63200ff748962bd08989073d3458986692c9ab52067a1ecc33\n",
            "  Stored in directory: /root/.cache/pip/wheels/76/ee/9c/36bfe3e079df99acf5ae57f4e3464ff2771b34447d6d2f2148\n",
            "  Building wheel for mazemdp (setup.py) ... \u001b[?25l\u001b[?25hdone\n",
            "  Created wheel for mazemdp: filename=mazemdp-0.1.1-py3-none-any.whl size=14721 sha256=7c1b771ca325c8cc8f6ffcc4e3916de34e2a10b107224d807605e2b54bb13ea5\n",
            "  Stored in directory: /root/.cache/pip/wheels/7f/bc/ab/90ec3e74f662c378b422671e88abc734a66f2f7959d550de1a\n",
            "Successfully built bbrl-gym gym mazemdp\n",
            "Installing collected packages: mazemdp, gym, Box2D, bbrl-gym\n",
            "  Attempting uninstall: gym\n",
            "    Found existing installation: gym 0.25.2\n",
            "    Uninstalling gym-0.25.2:\n",
            "      Successfully uninstalled gym-0.25.2\n",
            "Successfully installed Box2D-2.3.10 bbrl-gym-0.1.0 gym-0.21.0 mazemdp-0.1.1\n"
          ]
        }
      ],
      "source": [
        "try:\n",
        "    import my_gym\n",
        "except ModuleNotFoundError as e:\n",
        "    !pip install git+https://github.com/osigaud/my_gym"
      ]
    },
    {
      "cell_type": "code",
      "execution_count": 20,
      "id": "33aae6af",
      "metadata": {
        "id": "33aae6af"
      },
      "outputs": [],
      "source": [
        "import os\n",
        "from typing import Tuple, List\n",
        "\n",
        "import numpy as np\n",
        "import matplotlib.pyplot as plt\n",
        "from tqdm.notebook import tqdm\n",
        "from mazemdp.maze_plotter import show_videos\n",
        "from my_gym.envs.maze_mdp import MazeMDPEnv\n",
        "from mazemdp.toolbox import egreedy, egreedy_loc, softmax, discreteProb\n",
        "from mazemdp.mdp import Mdp\n",
        "# For visualization\n",
        "os.environ[\"VIDEO_FPS\"] = \"5\"\n",
        "if not os.path.isdir(\"./videos\"):\n",
        "    os.mkdir(\"./videos\")\n",
        "\n",
        "from IPython.display import Video"
      ]
    },
    {
      "cell_type": "markdown",
      "source": [],
      "metadata": {
        "id": "qma2r0J_vMdG"
      },
      "id": "qma2r0J_vMdG"
    },
    {
      "cell_type": "code",
      "source": [
        "def get_policy_from_q(q: np.ndarray) -> np.ndarray:\n",
        "    return np.argmax(q, axis=1)"
      ],
      "metadata": {
        "id": "gC1L6nYYvL4H"
      },
      "id": "gC1L6nYYvL4H",
      "execution_count": 5,
      "outputs": []
    },
    {
      "cell_type": "code",
      "source": [
        "def improve_policy_from_v(mdp: MazeMDPEnv, v: np.ndarray, policy: np.ndarray) -> np.ndarray:\n",
        "    # Improves a policy given the state values\n",
        "    for x in range(mdp.nb_states):  # for each state x\n",
        "        # Compute the value of the state x for each action u of the MDP action space\n",
        "        if x not in mdp.terminal_states:\n",
        "            v_temp = np.zeros(mdp.action_space.size)\n",
        "            for u in mdp.action_space.actions:\n",
        "                # Process sum of the values of the neighbouring states\n",
        "                summ = 0\n",
        "                for y in range(mdp.nb_states):\n",
        "                    summ = summ + mdp.P[x, u, y] * v[y]\n",
        "                v_temp[u] = mdp.r[x, u] + mdp.gamma * summ\n",
        "\n",
        "            for u in mdp.action_space.actions:\n",
        "                if v_temp[u] > v_temp[policy[x]]:\n",
        "                    policy[x] = u\n",
        "    return policy"
      ],
      "metadata": {
        "id": "jJVzWmq_vL2W"
      },
      "id": "jJVzWmq_vL2W",
      "execution_count": 6,
      "outputs": []
    },
    {
      "cell_type": "code",
      "source": [
        "def evaluate_one_step_v(mdp: MazeMDPEnv, v: np.ndarray, policy: np.ndarray) -> np.ndarray:\n",
        "    # Outputs the state value function after one step of policy evaluation\n",
        "    # Corresponds to one application of the Bellman Operator\n",
        "    v_new = np.zeros(mdp.nb_states)  # initial state values are set to 0\n",
        "    for x in range(mdp.nb_states):  # for each state x\n",
        "        # Compute the value of the state x for each action u of the MDP action space\n",
        "        if x not in mdp.terminal_states:\n",
        "            # Process sum of the values of the neighbouring states\n",
        "            summ = 0\n",
        "            for y in range(mdp.nb_states):\n",
        "                summ = summ + mdp.P[x, policy[x], y] * v[y]\n",
        "            v_new[x] = mdp.r[x, policy[x]] + mdp.gamma * summ\n",
        "    return v_new\n"
      ],
      "metadata": {
        "id": "pROwi1a4vLlm"
      },
      "id": "pROwi1a4vLlm",
      "execution_count": 7,
      "outputs": []
    },
    {
      "cell_type": "code",
      "source": [
        "def evaluate_v(mdp: MazeMDPEnv, v: np.ndarray,policy: np.ndarray, K: int=0) -> np.ndarray:\n",
        "    # Outputs the state value function of a policy\n",
        "    #v = np.zeros(mdp.nb_states)  # initial state values are set to 0\n",
        "    stop = False\n",
        "    cnt = 0\n",
        "    if  K ==0:\n",
        "      while not stop:\n",
        "          vold = v.copy()\n",
        "          v = evaluate_one_step_v(mdp, vold, policy)\n",
        "          # Test if convergence has been reached\n",
        "          cnt += 1\n",
        "          if (np.linalg.norm(v - vold)) < 0.01:\n",
        "              stop = True\n",
        "      print(f\"evaluate_one_step appelée {cnt} fois \\n\")\n",
        "    else:\n",
        "      for i in range (K):\n",
        "        vold = v.copy()\n",
        "        v = evaluate_one_step_v(mdp, vold, policy)\n",
        "    return v"
      ],
      "metadata": {
        "id": "Le6WJToMvoD4"
      },
      "id": "Le6WJToMvoD4",
      "execution_count": 35,
      "outputs": []
    },
    {
      "cell_type": "code",
      "source": [
        "# ---------------- Policy Iteration with the V function -----------------#\n",
        "# Given an MDP, this algorithm simultaneously computes \n",
        "# the optimal state value function V and the optimal policy\n",
        "\n",
        "def generalize_policy_iteration_v(mdp: MazeMDPEnv,k, render: bool = True ) -> Tuple[np.ndarray, List[float]]:\n",
        "    # policy iteration over the v function\n",
        "    v = np.zeros(mdp.nb_states)  # initial state values are set to 0\n",
        "    v_list = []\n",
        "    policy = random_policy(mdp)\n",
        "    cnt_policy = 0\n",
        "    stop = False\n",
        "    while not stop:\n",
        "\n",
        "      vold = v.copy()\n",
        "      if render:\n",
        "          mdp.init_draw(\"Policy iteration V\")\n",
        "\n",
        "      \n",
        "      # Step 1 : Policy Evaluation\n",
        "      v = evaluate_v(mdp,v, policy,k)\n",
        "      cnt_policy += 1\n",
        "      if render:\n",
        "          mdp.draw_v_pi(v, policy, title=\"Policy iteration V\")\n",
        "\n",
        "      # Step 2 : Policy Improvement\n",
        "      policy = improve_policy_from_v(mdp, v, policy)\n",
        "      v_list.append(np.linalg.norm(v - vold))\n",
        "      if (np.linalg.norm(v - vold)) < 0.01:\n",
        "            stop = True\n",
        "\n",
        "    if render:\n",
        "        mdp.draw_v_pi(v, policy, title=\"Policy iteration V\")\n",
        "        mdp.mdp.plotter.video_writer.release()\n",
        "    print(f\"Pour K = {k} evaluate_v a été appelé {cnt_policy} fois \\n\")\n",
        "    return v, v_list, cnt_policy\n"
      ],
      "metadata": {
        "id": "Y_WqKb50v1wH"
      },
      "id": "Y_WqKb50v1wH",
      "execution_count": 36,
      "outputs": []
    },
    {
      "cell_type": "code",
      "source": [
        "from mazemdp import random_policy"
      ],
      "metadata": {
        "id": "JwPKVnQNIUOz"
      },
      "id": "JwPKVnQNIUOz",
      "execution_count": 11,
      "outputs": []
    },
    {
      "cell_type": "code",
      "source": [
        "v, v_list , cnt_policy = generalize_policy_iteration_v(env, 100,render=True)"
      ],
      "metadata": {
        "colab": {
          "base_uri": "https://localhost:8080/",
          "height": 412,
          "referenced_widgets": [
            "c07d934b54bb47d894448f4ae8ca95cb",
            "dc88e691139a40f9a80759dcefab7ec6"
          ]
        },
        "id": "e1KCbtrTwCAw",
        "outputId": "f3ba1450-383a-4034-897c-25f3f0f65d51"
      },
      "id": "e1KCbtrTwCAw",
      "execution_count": 37,
      "outputs": [
        {
          "output_type": "display_data",
          "data": {
            "text/plain": [
              "Output()"
            ],
            "application/vnd.jupyter.widget-view+json": {
              "version_major": 2,
              "version_minor": 0,
              "model_id": "c07d934b54bb47d894448f4ae8ca95cb"
            }
          },
          "metadata": {}
        },
        {
          "output_type": "stream",
          "name": "stdout",
          "text": [
            "Pour K = 100 evaluate_v a été appelé 7 fois \n",
            "\n"
          ]
        }
      ]
    },
    {
      "cell_type": "code",
      "source": [
        "k_list = np.arange(0, 10, 1, dtype=\"int\")\n",
        "tab_cnt_policy = []\n",
        "tab_v_list = []\n",
        "for k in k_list:\n",
        "  v, v_list , cnt_policy = generalize_policy_iteration_v(env, k,render=True)\n",
        "  tab_cnt_policy.append(cnt_policy)\n",
        "  tab_v_list.append(v_list)\n",
        "\n",
        "plt.figure(figsize=(10, 8))\n",
        "plt.title(\"Evolution du MSE en fonction de K\")\n",
        "for i, k in enumerate(k_list):\n",
        "  plt.plot(range(len(tab_v_list[i])),tab_v_list[i], label=f\"k = {k}\")\n",
        "\n",
        "plt.grid()\n",
        "plt.legend()"
      ],
      "metadata": {
        "colab": {
          "base_uri": "https://localhost:8080/",
          "height": 1000,
          "referenced_widgets": [
            "85a28ad7c9394e8491612de2a17b698e",
            "fb8fe14567c14354bfb27076ae4a0d34"
          ]
        },
        "id": "2MG72g6B_che",
        "outputId": "bf66fee8-15ed-4bbc-ff6d-63ab1403653c"
      },
      "id": "2MG72g6B_che",
      "execution_count": 38,
      "outputs": [
        {
          "output_type": "display_data",
          "data": {
            "text/plain": [
              "Output()"
            ],
            "application/vnd.jupyter.widget-view+json": {
              "version_major": 2,
              "version_minor": 0,
              "model_id": "85a28ad7c9394e8491612de2a17b698e"
            }
          },
          "metadata": {}
        },
        {
          "output_type": "stream",
          "name": "stdout",
          "text": [
            "evaluate_one_step appelée 3 fois \n",
            "\n",
            "evaluate_one_step appelée 4 fois \n",
            "\n",
            "evaluate_one_step appelée 3 fois \n",
            "\n",
            "evaluate_one_step appelée 3 fois \n",
            "\n",
            "evaluate_one_step appelée 3 fois \n",
            "\n",
            "evaluate_one_step appelée 1 fois \n",
            "\n",
            "Pour K = 0 evaluate_v a été appelé 6 fois \n",
            "\n",
            "Pour K = 1 evaluate_v a été appelé 9 fois \n",
            "\n",
            "Pour K = 2 evaluate_v a été appelé 7 fois \n",
            "\n",
            "Pour K = 3 evaluate_v a été appelé 7 fois \n",
            "\n",
            "Pour K = 4 evaluate_v a été appelé 6 fois \n",
            "\n",
            "Pour K = 5 evaluate_v a été appelé 8 fois \n",
            "\n",
            "Pour K = 6 evaluate_v a été appelé 9 fois \n",
            "\n",
            "Pour K = 7 evaluate_v a été appelé 6 fois \n",
            "\n",
            "Pour K = 8 evaluate_v a été appelé 7 fois \n",
            "\n",
            "Pour K = 9 evaluate_v a été appelé 8 fois \n",
            "\n"
          ]
        },
        {
          "output_type": "execute_result",
          "data": {
            "text/plain": [
              "<matplotlib.legend.Legend at 0x7fc363e5be10>"
            ]
          },
          "metadata": {},
          "execution_count": 38
        },
        {
          "output_type": "display_data",
          "data": {
            "text/plain": [
              "<Figure size 720x576 with 1 Axes>"
            ],
            "image/png": "[encoded data removed]"
          },
          "metadata": {
            "needs_background": "light"
          }
        }
      ]
    },
    {
      "cell_type": "markdown",
      "source": [
        "Implémentation SARSA softmax"
      ],
      "metadata": {
        "id": "7HZHr7Ksu7_B"
      },
      "id": "7HZHr7Ksu7_B"
    },
    {
      "cell_type": "code",
      "source": [
        "# --------------------------- Sarsa, softmax version -------------------------------#\n",
        "\n",
        "# Given a temperature \"tau\", the SARSA algorithm computes the state action-value function\n",
        "# based on a softmax policy\n",
        "# alpha is the learning rate\n",
        "def sarsa_soft(\n",
        "    mdp: MazeMDPEnv,\n",
        "    tau: float,\n",
        "    nb_episodes: int = 20,\n",
        "    timeout: int = 50,\n",
        "    alpha: float = 0.5,\n",
        "    render: bool = True,\n",
        ") -> Tuple[np.ndarray, List[float]]:\n",
        "\n",
        "    # Initialize the state-action value function\n",
        "    # alpha is the learning rate\n",
        "    q = np.zeros((mdp.nb_states, mdp.action_space.size))\n",
        "    q_min = np.zeros((mdp.nb_states, mdp.action_space.size))\n",
        "    q_list = []\n",
        "\n",
        "    # Run learning cycle\n",
        "    mdp.timeout = timeout  # episode length\n",
        "\n",
        "    if render:\n",
        "        mdp.init_draw(\"Sarsa softmax\")\n",
        "\n",
        "    for _ in tqdm(range(nb_episodes)):\n",
        "        # Draw the first state of episode i using a uniform distribution over all the states\n",
        "        x = mdp.reset(uniform=True)\n",
        "        u = discreteProb(softmax(q, x, tau))\n",
        "        done = False\n",
        "\n",
        "        while not done:\n",
        "\n",
        "          \n",
        "          # Perform a step of the MDP\n",
        "          [y, r, done, _] = mdp.step(u) \n",
        "          if render:\n",
        "            # Show the agent in the maze\n",
        "            mdp.draw_v_pi(q, q.argmax(axis=1))\n",
        "\n",
        "          # À compléter...       \n",
        "          u_ = discreteProb(softmax(q, y, tau))\n",
        "\n",
        "          delta = r + mdp.gamma * q[y,u_] - q[x,u]\n",
        "          q[x,u] = q[x,u] + alpha * delta \n",
        "          x = y\n",
        "          u = u_\n",
        "\n",
        "        q_list.append(np.linalg.norm(np.maximum(q, q_min)))\n",
        "\n",
        "    if render:\n",
        "        # Show the final policy\n",
        "        mdp.current_state = 0\n",
        "        mdp.draw_v_pi(q, get_policy_from_q(q), title=\"Sarsa softmax\")\n",
        "    return q, q_list\n"
      ],
      "metadata": {
        "id": "mkChR9Blumkw"
      },
      "id": "mkChR9Blumkw",
      "execution_count": 22,
      "outputs": []
    },
    {
      "cell_type": "markdown",
      "source": [
        "Test de SARSA"
      ],
      "metadata": {
        "id": "ZsvrBIe5u5E4"
      },
      "id": "ZsvrBIe5u5E4"
    },
    {
      "cell_type": "code",
      "source": [
        "tau = 6\n",
        "NB_EPISODES = 50\n",
        "TIMEOUT = 25\n",
        "q, q_list = sarsa_soft(env, tau, nb_episodes=NB_EPISODES)"
      ],
      "metadata": {
        "colab": {
          "base_uri": "https://localhost:8080/",
          "height": 409,
          "referenced_widgets": [
            "655b3e6702f44e93a5bd98ec9f69258f",
            "ca46fb020c4a427ebdefeccf37df16ad",
            "2ae71030c97c47b99757b81e95b40b76",
            "3c1b73a654634ae9a2d4af6263aeb368",
            "19677e62eb7f4c8c974d93f263845833",
            "89aa30534aa34a97b1df1d739709de92",
            "90048b8d275f4666a429215026a8e0f9",
            "8fd1c4ac9c654b3e80bdaa1b3f07b60a",
            "4f53bc7afe2142e682e6f1ae5d9fefa4",
            "993f89b7647642f7b2dfb874d90e9418",
            "3a70110d23c14be3b6216abc60925138",
            "110f39800a8c434e9c0b6ab2c157312e",
            "f1d9809ce146469e8dc85a31c6ef803b"
          ]
        },
        "id": "tYwxHKnzu38v",
        "outputId": "6964721b-c390-43bb-f8fb-488004512203"
      },
      "id": "tYwxHKnzu38v",
      "execution_count": 39,
      "outputs": [
        {
          "output_type": "display_data",
          "data": {
            "text/plain": [
              "Output()"
            ],
            "application/vnd.jupyter.widget-view+json": {
              "version_major": 2,
              "version_minor": 0,
              "model_id": "655b3e6702f44e93a5bd98ec9f69258f"
            }
          },
          "metadata": {}
        },
        {
          "output_type": "display_data",
          "data": {
            "text/plain": [
              "  0%|          | 0/50 [00:00<?, ?it/s]"
            ],
            "application/vnd.jupyter.widget-view+json": {
              "version_major": 2,
              "version_minor": 0,
              "model_id": "2ae71030c97c47b99757b81e95b40b76"
            }
          },
          "metadata": {}
        }
      ]
    },
    {
      "cell_type": "markdown",
      "source": [
        "Après avoir tester différentes valeurs de tau on constate que si tau est grand il a plus tendance à explorer et à exploiter dans le cas où tau est petit "
      ],
      "metadata": {
        "id": "B4XHp0cmvCkv"
      },
      "id": "B4XHp0cmvCkv"
    }
  ],
  "metadata": {
    "jupytext": {
      "formats": "ipynb,Rmd"
    },
    "kernelspec": {
      "display_name": "Python 3 (ipykernel)",
      "language": "python",
      "name": "python3"
    },
    "language_info": {
      "codemirror_mode": {
        "name": "ipython",
        "version": 3
      },
      "file_extension": ".py",
      "mimetype": "text/x-python",
      "name": "python",
      "nbconvert_exporter": "python",
      "pygments_lexer": "ipython3",
      "version": "3.10.4"
    },
    "vscode": {
      "interpreter": {
        "hash": "6e884070700a07b2f65153b26d66f81de9f18181d58025abdb2edf229e421bcd"
      }
    },
    "colab": {
      "provenance": [],
      "collapsed_sections": []
    },
    "widgets": {
      "application/vnd.jupyter.widget-state+json": {
        "c07d934b54bb47d894448f4ae8ca95cb": {
          "model_module": "@jupyter-widgets/output",
          "model_name": "OutputModel",
          "model_module_version": "1.0.0",
          "state": {
            "_dom_classes": [],
            "_model_module": "@jupyter-widgets/output",
            "_model_module_version": "1.0.0",
            "_model_name": "OutputModel",
            "_view_count": null,
            "_view_module": "@jupyter-widgets/output",
            "_view_module_version": "1.0.0",
            "_view_name": "OutputView",
            "layout": "IPY_MODEL_dc88e691139a40f9a80759dcefab7ec6",
            "msg_id": "",
            "outputs": [
              {
                "output_type": "display_data",
                "data": {
                  "image/png": "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\n",
                  "text/plain": "<IPython.core.display.Image object>"
                },
                "metadata": {}
              }
            ]
          }
        },
        "dc88e691139a40f9a80759dcefab7ec6": {
          "model_module": "@jupyter-widgets/base",
          "model_name": "LayoutModel",
          "model_module_version": "1.2.0",
          "state": {
            "_model_module": "@jupyter-widgets/base",
            "_model_module_version": "1.2.0",
            "_model_name": "LayoutModel",
            "_view_count": null,
            "_view_module": "@jupyter-widgets/base",
            "_view_module_version": "1.2.0",
            "_view_name": "LayoutView",
            "align_content": null,
            "align_items": null,
            "align_self": null,
            "border": null,
            "bottom": null,
            "display": null,
            "flex": null,
            "flex_flow": null,
            "grid_area": null,
            "grid_auto_columns": null,
            "grid_auto_flow": null,
            "grid_auto_rows": null,
            "grid_column": null,
            "grid_gap": null,
            "grid_row": null,
            "grid_template_areas": null,
            "grid_template_columns": null,
            "grid_template_rows": null,
            "height": null,
            "justify_content": null,
            "justify_items": null,
            "left": null,
            "margin": null,
            "max_height": null,
            "max_width": null,
            "min_height": null,
            "min_width": null,
            "object_fit": null,
            "object_position": null,
            "order": null,
            "overflow": null,
            "overflow_x": null,
            "overflow_y": null,
            "padding": null,
            "right": null,
            "top": null,
            "visibility": null,
            "width": null
          }
        },
        "85a28ad7c9394e8491612de2a17b698e": {
          "model_module": "@jupyter-widgets/output",
          "model_name": "OutputModel",
          "model_module_version": "1.0.0",
          "state": {
            "_dom_classes": [],
            "_model_module": "@jupyter-widgets/output",
            "_model_module_version": "1.0.0",
            "_model_name": "OutputModel",
            "_view_count": null,
            "_view_module": "@jupyter-widgets/output",
            "_view_module_version": "1.0.0",
            "_view_name": "OutputView",
            "layout": "IPY_MODEL_fb8fe14567c14354bfb27076ae4a0d34",
            "msg_id": "",
            "outputs": [
              {
                "output_type": "display_data",
                "data": {
                  "image/png": "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\n",
                  "text/plain": "<IPython.core.display.Image object>"
                },
                "metadata": {}
              }
            ]
          }
        },
        "fb8fe14567c14354bfb27076ae4a0d34": {
          "model_module": "@jupyter-widgets/base",
          "model_name": "LayoutModel",
          "model_module_version": "1.2.0",
          "state": {
            "_model_module": "@jupyter-widgets/base",
            "_model_module_version": "1.2.0",
            "_model_name": "LayoutModel",
            "_view_count": null,
            "_view_module": "@jupyter-widgets/base",
            "_view_module_version": "1.2.0",
            "_view_name": "LayoutView",
            "align_content": null,
            "align_items": null,
            "align_self": null,
            "border": null,
            "bottom": null,
            "display": null,
            "flex": null,
            "flex_flow": null,
            "grid_area": null,
            "grid_auto_columns": null,
            "grid_auto_flow": null,
            "grid_auto_rows": null,
            "grid_column": null,
            "grid_gap": null,
            "grid_row": null,
            "grid_template_areas": null,
            "grid_template_columns": null,
            "grid_template_rows": null,
            "height": null,
            "justify_content": null,
            "justify_items": null,
            "left": null,
            "margin": null,
            "max_height": null,
            "max_width": null,
            "min_height": null,
            "min_width": null,
            "object_fit": null,
            "object_position": null,
            "order": null,
            "overflow": null,
            "overflow_x": null,
            "overflow_y": null,
            "padding": null,
            "right": null,
            "top": null,
            "visibility": null,
            "width": null
          }
        },
        "655b3e6702f44e93a5bd98ec9f69258f": {
          "model_module": "@jupyter-widgets/output",
          "model_name": "OutputModel",
          "model_module_version": "1.0.0",
          "state": {
            "_dom_classes": [],
            "_model_module": "@jupyter-widgets/output",
            "_model_module_version": "1.0.0",
            "_model_name": "OutputModel",
            "_view_count": null,
            "_view_module": "@jupyter-widgets/output",
            "_view_module_version": "1.0.0",
            "_view_name": "OutputView",
            "layout": "IPY_MODEL_ca46fb020c4a427ebdefeccf37df16ad",
            "msg_id": "",
            "outputs": [
              {
                "output_type": "display_data",
                "data": {
                  "image/png": "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\n",
                  "text/plain": "<IPython.core.display.Image object>"
                },
                "metadata": {}
              }
            ]
          }
        },
        "ca46fb020c4a427ebdefeccf37df16ad": {
          "model_module": "@jupyter-widgets/base",
          "model_name": "LayoutModel",
          "model_module_version": "1.2.0",
          "state": {
            "_model_module": "@jupyter-widgets/base",
            "_model_module_version": "1.2.0",
            "_model_name": "LayoutModel",
            "_view_count": null,
            "_view_module": "@jupyter-widgets/base",
            "_view_module_version": "1.2.0",
            "_view_name": "LayoutView",
            "align_content": null,
            "align_items": null,
            "align_self": null,
            "border": null,
            "bottom": null,
            "display": null,
            "flex": null,
            "flex_flow": null,
            "grid_area": null,
            "grid_auto_columns": null,
            "grid_auto_flow": null,
            "grid_auto_rows": null,
            "grid_column": null,
            "grid_gap": null,
            "grid_row": null,
            "grid_template_areas": null,
            "grid_template_columns": null,
            "grid_template_rows": null,
            "height": null,
            "justify_content": null,
            "justify_items": null,
            "left": null,
            "margin": null,
            "max_height": null,
            "max_width": null,
            "min_height": null,
            "min_width": null,
            "object_fit": null,
            "object_position": null,
            "order": null,
            "overflow": null,
            "overflow_x": null,
            "overflow_y": null,
            "padding": null,
            "right": null,
            "top": null,
            "visibility": null,
            "width": null
          }
        },
        "2ae71030c97c47b99757b81e95b40b76": {
          "model_module": "@jupyter-widgets/controls",
          "model_name": "HBoxModel",
          "model_module_version": "1.5.0",
          "state": {
            "_dom_classes": [],
            "_model_module": "@jupyter-widgets/controls",
            "_model_module_version": "1.5.0",
            "_model_name": "HBoxModel",
            "_view_count": null,
            "_view_module": "@jupyter-widgets/controls",
            "_view_module_version": "1.5.0",
            "_view_name": "HBoxView",
            "box_style": "",
            "children": [
              "IPY_MODEL_3c1b73a654634ae9a2d4af6263aeb368",
              "IPY_MODEL_19677e62eb7f4c8c974d93f263845833",
              "IPY_MODEL_89aa30534aa34a97b1df1d739709de92"
            ],
            "layout": "IPY_MODEL_90048b8d275f4666a429215026a8e0f9"
          }
        },
        "3c1b73a654634ae9a2d4af6263aeb368": {
          "model_module": "@jupyter-widgets/controls",
          "model_name": "HTMLModel",
          "model_module_version": "1.5.0",
          "state": {
            "_dom_classes": [],
            "_model_module": "@jupyter-widgets/controls",
            "_model_module_version": "1.5.0",
            "_model_name": "HTMLModel",
            "_view_count": null,
            "_view_module": "@jupyter-widgets/controls",
            "_view_module_version": "1.5.0",
            "_view_name": "HTMLView",
            "description": "",
            "description_tooltip": null,
            "layout": "IPY_MODEL_8fd1c4ac9c654b3e80bdaa1b3f07b60a",
            "placeholder": "​",
            "style": "IPY_MODEL_4f53bc7afe2142e682e6f1ae5d9fefa4",
            "value": "100%"
          }
        },
        "19677e62eb7f4c8c974d93f263845833": {
          "model_module": "@jupyter-widgets/controls",
          "model_name": "FloatProgressModel",
          "model_module_version": "1.5.0",
          "state": {
            "_dom_classes": [],
            "_model_module": "@jupyter-widgets/controls",
            "_model_module_version": "1.5.0",
            "_model_name": "FloatProgressModel",
            "_view_count": null,
            "_view_module": "@jupyter-widgets/controls",
            "_view_module_version": "1.5.0",
            "_view_name": "ProgressView",
            "bar_style": "success",
            "description": "",
            "description_tooltip": null,
            "layout": "IPY_MODEL_993f89b7647642f7b2dfb874d90e9418",
            "max": 50,
            "min": 0,
            "orientation": "horizontal",
            "style": "IPY_MODEL_3a70110d23c14be3b6216abc60925138",
            "value": 50
          }
        },
        "89aa30534aa34a97b1df1d739709de92": {
          "model_module": "@jupyter-widgets/controls",
          "model_name": "HTMLModel",
          "model_module_version": "1.5.0",
          "state": {
            "_dom_classes": [],
            "_model_module": "@jupyter-widgets/controls",
            "_model_module_version": "1.5.0",
            "_model_name": "HTMLModel",
            "_view_count": null,
            "_view_module": "@jupyter-widgets/controls",
            "_view_module_version": "1.5.0",
            "_view_name": "HTMLView",
            "description": "",
            "description_tooltip": null,
            "layout": "IPY_MODEL_110f39800a8c434e9c0b6ab2c157312e",
            "placeholder": "​",
            "style": "IPY_MODEL_f1d9809ce146469e8dc85a31c6ef803b",
            "value": " 50/50 [07:51&lt;00:00,  6.49s/it]"
          }
        },
        "90048b8d275f4666a429215026a8e0f9": {
          "model_module": "@jupyter-widgets/base",
          "model_name": "LayoutModel",
          "model_module_version": "1.2.0",
          "state": {
            "_model_module": "@jupyter-widgets/base",
            "_model_module_version": "1.2.0",
            "_model_name": "LayoutModel",
            "_view_count": null,
            "_view_module": "@jupyter-widgets/base",
            "_view_module_version": "1.2.0",
            "_view_name": "LayoutView",
            "align_content": null,
            "align_items": null,
            "align_self": null,
            "border": null,
            "bottom": null,
            "display": null,
            "flex": null,
            "flex_flow": null,
            "grid_area": null,
            "grid_auto_columns": null,
            "grid_auto_flow": null,
            "grid_auto_rows": null,
            "grid_column": null,
            "grid_gap": null,
            "grid_row": null,
            "grid_template_areas": null,
            "grid_template_columns": null,
            "grid_template_rows": null,
            "height": null,
            "justify_content": null,
            "justify_items": null,
            "left": null,
            "margin": null,
            "max_height": null,
            "max_width": null,
            "min_height": null,
            "min_width": null,
            "object_fit": null,
            "object_position": null,
            "order": null,
            "overflow": null,
            "overflow_x": null,
            "overflow_y": null,
            "padding": null,
            "right": null,
            "top": null,
            "visibility": null,
            "width": null
          }
        },
        "8fd1c4ac9c654b3e80bdaa1b3f07b60a": {
          "model_module": "@jupyter-widgets/base",
          "model_name": "LayoutModel",
          "model_module_version": "1.2.0",
          "state": {
            "_model_module": "@jupyter-widgets/base",
            "_model_module_version": "1.2.0",
            "_model_name": "LayoutModel",
            "_view_count": null,
            "_view_module": "@jupyter-widgets/base",
            "_view_module_version": "1.2.0",
            "_view_name": "LayoutView",
            "align_content": null,
            "align_items": null,
            "align_self": null,
            "border": null,
            "bottom": null,
            "display": null,
            "flex": null,
            "flex_flow": null,
            "grid_area": null,
            "grid_auto_columns": null,
            "grid_auto_flow": null,
            "grid_auto_rows": null,
            "grid_column": null,
            "grid_gap": null,
            "grid_row": null,
            "grid_template_areas": null,
            "grid_template_columns": null,
            "grid_template_rows": null,
            "height": null,
            "justify_content": null,
            "justify_items": null,
            "left": null,
            "margin": null,
            "max_height": null,
            "max_width": null,
            "min_height": null,
            "min_width": null,
            "object_fit": null,
            "object_position": null,
            "order": null,
            "overflow": null,
            "overflow_x": null,
            "overflow_y": null,
            "padding": null,
            "right": null,
            "top": null,
            "visibility": null,
            "width": null
          }
        },
        "4f53bc7afe2142e682e6f1ae5d9fefa4": {
          "model_module": "@jupyter-widgets/controls",
          "model_name": "DescriptionStyleModel",
          "model_module_version": "1.5.0",
          "state": {
            "_model_module": "@jupyter-widgets/controls",
            "_model_module_version": "1.5.0",
            "_model_name": "DescriptionStyleModel",
            "_view_count": null,
            "_view_module": "@jupyter-widgets/base",
            "_view_module_version": "1.2.0",
            "_view_name": "StyleView",
            "description_width": ""
          }
        },
        "993f89b7647642f7b2dfb874d90e9418": {
          "model_module": "@jupyter-widgets/base",
          "model_name": "LayoutModel",
          "model_module_version": "1.2.0",
          "state": {
            "_model_module": "@jupyter-widgets/base",
            "_model_module_version": "1.2.0",
            "_model_name": "LayoutModel",
            "_view_count": null,
            "_view_module": "@jupyter-widgets/base",
            "_view_module_version": "1.2.0",
            "_view_name": "LayoutView",
            "align_content": null,
            "align_items": null,
            "align_self": null,
            "border": null,
            "bottom": null,
            "display": null,
            "flex": null,
            "flex_flow": null,
            "grid_area": null,
            "grid_auto_columns": null,
            "grid_auto_flow": null,
            "grid_auto_rows": null,
            "grid_column": null,
            "grid_gap": null,
            "grid_row": null,
            "grid_template_areas": null,
            "grid_template_columns": null,
            "grid_template_rows": null,
            "height": null,
            "justify_content": null,
            "justify_items": null,
            "left": null,
            "margin": null,
            "max_height": null,
            "max_width": null,
            "min_height": null,
            "min_width": null,
            "object_fit": null,
            "object_position": null,
            "order": null,
            "overflow": null,
            "overflow_x": null,
            "overflow_y": null,
            "padding": null,
            "right": null,
            "top": null,
            "visibility": null,
            "width": null
          }
        },
        "3a70110d23c14be3b6216abc60925138": {
          "model_module": "@jupyter-widgets/controls",
          "model_name": "ProgressStyleModel",
          "model_module_version": "1.5.0",
          "state": {
            "_model_module": "@jupyter-widgets/controls",
            "_model_module_version": "1.5.0",
            "_model_name": "ProgressStyleModel",
            "_view_count": null,
            "_view_module": "@jupyter-widgets/base",
            "_view_module_version": "1.2.0",
            "_view_name": "StyleView",
            "bar_color": null,
            "description_width": ""
          }
        },
        "110f39800a8c434e9c0b6ab2c157312e": {
          "model_module": "@jupyter-widgets/base",
          "model_name": "LayoutModel",
          "model_module_version": "1.2.0",
          "state": {
            "_model_module": "@jupyter-widgets/base",
            "_model_module_version": "1.2.0",
            "_model_name": "LayoutModel",
            "_view_count": null,
            "_view_module": "@jupyter-widgets/base",
            "_view_module_version": "1.2.0",
            "_view_name": "LayoutView",
            "align_content": null,
            "align_items": null,
            "align_self": null,
            "border": null,
            "bottom": null,
            "display": null,
            "flex": null,
            "flex_flow": null,
            "grid_area": null,
            "grid_auto_columns": null,
            "grid_auto_flow": null,
            "grid_auto_rows": null,
            "grid_column": null,
            "grid_gap": null,
            "grid_row": null,
            "grid_template_areas": null,
            "grid_template_columns": null,
            "grid_template_rows": null,
            "height": null,
            "justify_content": null,
            "justify_items": null,
            "left": null,
            "margin": null,
            "max_height": null,
            "max_width": null,
            "min_height": null,
            "min_width": null,
            "object_fit": null,
            "object_position": null,
            "order": null,
            "overflow": null,
            "overflow_x": null,
            "overflow_y": null,
            "padding": null,
            "right": null,
            "top": null,
            "visibility": null,
            "width": null
          }
        },
        "f1d9809ce146469e8dc85a31c6ef803b": {
          "model_module": "@jupyter-widgets/controls",
          "model_name": "DescriptionStyleModel",
          "model_module_version": "1.5.0",
          "state": {
            "_model_module": "@jupyter-widgets/controls",
            "_model_module_version": "1.5.0",
            "_model_name": "DescriptionStyleModel",
            "_view_count": null,
            "_view_module": "@jupyter-widgets/base",
            "_view_module_version": "1.2.0",
            "_view_name": "StyleView",
            "description_width": ""
          }
        }
      }
    }
  },
  "nbformat": 4,
  "nbformat_minor": 5
}